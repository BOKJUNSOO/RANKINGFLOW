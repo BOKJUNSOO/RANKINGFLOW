{
 "cells": [
  {
   "cell_type": "code",
   "execution_count": null,
   "metadata": {},
   "outputs": [],
   "source": [
    "from pyspark.sql import SparkSession\n",
    "spark = (\n",
    "    SparkSession.builder \\\n",
    "                .master(\"local\")\n",
    "                .appName(\"World Count\")\n",
    "                .getOrCreate()\n",
    ")\n",
    "file_path = \"/opt/bitnami/spark/data/ranking_2024-12-14.json\"\n",
    "df = spark.read.format('json')\n",
    "df.printSchema()\n"
   ]
  }
 ],
 "metadata": {
  "kernelspec": {
   "display_name": "venv",
   "language": "python",
   "name": "python3"
  },
  "language_info": {
   "name": "python",
   "version": "3.12.7"
  }
 },
 "nbformat": 4,
 "nbformat_minor": 2
}
